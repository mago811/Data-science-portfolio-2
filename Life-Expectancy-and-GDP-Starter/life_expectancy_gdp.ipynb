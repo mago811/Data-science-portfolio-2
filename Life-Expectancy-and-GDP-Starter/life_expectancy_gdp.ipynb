{
 "cells": [
  {
   "cell_type": "code",
   "execution_count": 5,
   "metadata": {},
   "outputs": [],
   "source": [
    "import pandas as pd\n",
    "import numpy as np\n",
    "import matplotlib.pyplot as plt\n",
    "import seaborn as sns"
   ]
  },
  {
   "cell_type": "code",
   "execution_count": 6,
   "metadata": {},
   "outputs": [],
   "source": [
    "#Load data to Data Frame\n",
    "\n",
    "df = pd.read_csv(\"all_data.csv\")"
   ]
  },
  {
   "cell_type": "code",
   "execution_count": 8,
   "metadata": {},
   "outputs": [
    {
     "name": "stdout",
     "output_type": "stream",
     "text": [
      "   Country  Year  Life expectancy at birth (years)           GDP\n",
      "0    Chile  2000                              77.3  7.786093e+10\n",
      "1    Chile  2001                              77.3  7.097992e+10\n",
      "2    Chile  2002                              77.8  6.973681e+10\n",
      "3    Chile  2003                              77.9  7.564346e+10\n",
      "4    Chile  2004                              78.0  9.921039e+10\n",
      "5    Chile  2005                              78.4  1.229650e+11\n",
      "6    Chile  2006                              78.9  1.547880e+11\n",
      "7    Chile  2007                              78.9  1.736060e+11\n",
      "8    Chile  2008                              79.6  1.796380e+11\n",
      "9    Chile  2009                              79.3  1.723890e+11\n",
      "10   Chile  2010                              79.1  2.185380e+11\n",
      "11   Chile  2011                              79.8  2.522520e+11\n",
      "12   Chile  2012                              79.9  2.671220e+11\n",
      "13   Chile  2013                              80.1  2.783840e+11\n",
      "14   Chile  2014                              80.3  2.609900e+11\n",
      "15   Chile  2015                              80.5  2.425180e+11\n",
      "16   China  2000                              71.7  1.211350e+12\n",
      "17   China  2001                              72.2  1.339400e+12\n",
      "18   China  2002                              72.7  1.470550e+12\n",
      "19   China  2003                              73.1  1.660290e+12\n"
     ]
    }
   ],
   "source": [
    "#First visualization\n",
    "\n",
    "print(df.head(20))"
   ]
  },
  {
   "cell_type": "code",
   "execution_count": 9,
   "metadata": {},
   "outputs": [
    {
     "name": "stdout",
     "output_type": "stream",
     "text": [
      "              Year  Life expectancy at birth (years)           GDP\n",
      "count    96.000000                         96.000000  9.600000e+01\n",
      "mean   2007.500000                         72.789583  3.880499e+12\n",
      "std       4.633971                         10.672882  5.197561e+12\n",
      "min    2000.000000                         44.300000  4.415703e+09\n",
      "25%    2003.750000                         74.475000  1.733018e+11\n",
      "50%    2007.500000                         76.750000  1.280220e+12\n",
      "75%    2011.250000                         78.900000  4.067510e+12\n",
      "max    2015.000000                         81.000000  1.810000e+13\n"
     ]
    }
   ],
   "source": [
    "#Exploratory Data Analysis\n",
    "\n",
    "print(df.describe())"
   ]
  },
  {
   "cell_type": "code",
   "execution_count": 10,
   "metadata": {},
   "outputs": [
    {
     "name": "stdout",
     "output_type": "stream",
     "text": [
      "<bound method DataFrame.info of      Country  Year  Life expectancy at birth (years)           GDP\n",
      "0      Chile  2000                              77.3  7.786093e+10\n",
      "1      Chile  2001                              77.3  7.097992e+10\n",
      "2      Chile  2002                              77.8  6.973681e+10\n",
      "3      Chile  2003                              77.9  7.564346e+10\n",
      "4      Chile  2004                              78.0  9.921039e+10\n",
      "..       ...   ...                               ...           ...\n",
      "91  Zimbabwe  2011                              54.9  1.209845e+10\n",
      "92  Zimbabwe  2012                              56.6  1.424249e+10\n",
      "93  Zimbabwe  2013                              58.0  1.545177e+10\n",
      "94  Zimbabwe  2014                              59.2  1.589105e+10\n",
      "95  Zimbabwe  2015                              60.7  1.630467e+10\n",
      "\n",
      "[96 rows x 4 columns]>\n"
     ]
    }
   ],
   "source": [
    "#Exploratory Data Analysis (cont.)\n",
    "\n",
    "print(df.info)"
   ]
  },
  {
   "cell_type": "code",
   "execution_count": 11,
   "metadata": {},
   "outputs": [
    {
     "name": "stdout",
     "output_type": "stream",
     "text": [
      "Country                              object\n",
      "Year                                  int64\n",
      "Life expectancy at birth (years)    float64\n",
      "GDP                                 float64\n",
      "dtype: object\n"
     ]
    }
   ],
   "source": [
    "#Exploratory Data Analysis (cont.)\n",
    "\n",
    "print(df.dtypes)"
   ]
  },
  {
   "cell_type": "code",
   "execution_count": 12,
   "metadata": {},
   "outputs": [
    {
     "name": "stdout",
     "output_type": "stream",
     "text": [
      "Country\n",
      "Chile                       78.94375\n",
      "China                       74.26250\n",
      "Germany                     79.65625\n",
      "Mexico                      75.71875\n",
      "United States of America    78.06250\n",
      "Zimbabwe                    50.09375\n",
      "Name: Life expectancy at birth (years), dtype: float64\n"
     ]
    }
   ],
   "source": [
    "#Exploratory Data Analysis (cont.)\n",
    "#Grouping by country mean Life Expectancy\n",
    "\n",
    "df_by_country = df.groupby(\"Country\")[\"Life expectancy at birth (years)\"].mean()\n",
    "\n",
    "print(df_by_country.head(20))"
   ]
  },
  {
   "cell_type": "code",
   "execution_count": 25,
   "metadata": {},
   "outputs": [
    {
     "name": "stdout",
     "output_type": "stream",
     "text": [
      "Country\n",
      "Chile                       1.697888e+11\n",
      "China                       4.957714e+12\n",
      "Germany                     3.094776e+12\n",
      "Mexico                      9.766506e+11\n",
      "United States of America    1.407500e+13\n",
      "Zimbabwe                    9.062580e+09\n",
      "Name: GDP, dtype: float64\n"
     ]
    }
   ],
   "source": [
    "#Exploratory Data Analysis (cont.)\n",
    "#Grouping by country mean GDP\n",
    "\n",
    "df_by_country_gdp = df.groupby(\"Country\")[\"GDP\"].mean()\n",
    "\n",
    "print(df_by_country_gdp.head(20))"
   ]
  },
  {
   "cell_type": "code",
   "execution_count": 26,
   "metadata": {},
   "outputs": [
    {
     "data": {
      "image/png": "[encoded data removed]",
      "text/plain": [
       "<Figure size 432x288 with 1 Axes>"
      ]
     },
     "metadata": {
      "needs_background": "light"
     },
     "output_type": "display_data"
    },
    {
     "data": {
      "text/plain": [
       "<Figure size 432x288 with 0 Axes>"
      ]
     },
     "metadata": {},
     "output_type": "display_data"
    }
   ],
   "source": [
    "#Visualizing GDP and LE relationship\n",
    "\n",
    "x_data = df_by_country_gdp\n",
    "y_data = df_by_country\n",
    "\n",
    "plt.scatter(x_data, y_data)\n",
    "plt.xlabel(\"GDP in billions\")\n",
    "plt.ylabel(\"Life Expectancy at birth\")\n",
    "plt.show()\n",
    "plt.clf()"
   ]
  },
  {
   "cell_type": "code",
   "execution_count": 27,
   "metadata": {},
   "outputs": [
    {
     "data": {
      "image/png": "[encoded data removed]",
      "text/plain": [
       "<Figure size 432x288 with 1 Axes>"
      ]
     },
     "metadata": {
      "needs_background": "light"
     },
     "output_type": "display_data"
    },
    {
     "data": {
      "text/plain": [
       "<Figure size 432x288 with 0 Axes>"
      ]
     },
     "metadata": {},
     "output_type": "display_data"
    }
   ],
   "source": [
    "#Because the information is not clear, we need to normalize the data\n",
    "\n",
    "\n",
    "df_by_country_gdp[\"GDP_millions\"] = df_by_country_gdp / 100000000000\n",
    "\n",
    "x_data = df_by_country_gdp[\"GDP_millions\"]\n",
    "\n",
    "plt.scatter(x_data, y_data)\n",
    "plt.xlabel(\"GDP in billions\")\n",
    "plt.ylabel(\"Life Expectancy at birth\")\n",
    "plt.show()\n",
    "plt.clf()"
   ]
  },
  {
   "cell_type": "markdown",
   "metadata": {},
   "source": [
    "Conclusion:\n",
    "\n",
    "Given this information, we cannot say that there is a linear correlation between GDP and life expectancy at birth, although there is a correlation that seems to take the form of a sigmoid curve. However, we would need more information to draw a definitive or truly meaningful conclusion, as the countries we took as examples are few and may be biasing the result."
   ]
  }
 ],
 "metadata": {
  "kernelspec": {
   "display_name": "Python 3 (ipykernel)",
   "language": "python",
   "name": "python3"
  },
  "language_info": {
   "codemirror_mode": {
    "name": "ipython",
    "version": 3
   },
   "file_extension": ".py",
   "mimetype": "text/x-python",
   "name": "python",
   "nbconvert_exporter": "python",
   "pygments_lexer": "ipython3",
   "version": "3.9.12"
  }
 },
 "nbformat": 4,
 "nbformat_minor": 4
}
